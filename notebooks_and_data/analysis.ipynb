{
 "cells": [
  {
   "cell_type": "markdown",
   "id": "a2c8720e-70d1-467a-b8a1-e3d601de4912",
   "metadata": {},
   "source": [
    "# Preparation"
   ]
  },
  {
   "cell_type": "markdown",
   "id": "09df0284-e983-46f5-b0f7-d806b0db46b5",
   "metadata": {},
   "source": [
    "## Load bibs"
   ]
  },
  {
   "cell_type": "code",
   "execution_count": null,
   "id": "eb65303c-0591-402f-a122-b86268338b0c",
   "metadata": {},
   "outputs": [],
   "source": [
    "from my_functions.functions_analysis import DataPreparation \n",
    "from my_functions.functions_analysis import DimensionalityReduction\n",
    "from my_functions.functions_analysis import Clustering\n",
    "from my_functions.functions_analysis import Vizualization"
   ]
  },
  {
   "cell_type": "markdown",
   "id": "8e54e9f6-8687-4aec-9e88-7ab29f1c182f",
   "metadata": {},
   "source": [
    "# Data Preparation "
   ]
  },
  {
   "cell_type": "markdown",
   "id": "5aec3ce7-f938-4ced-9792-26336f2d9f00",
   "metadata": {},
   "source": [
    "## Load data"
   ]
  },
  {
   "cell_type": "markdown",
   "id": "168cae31-52d0-4bb7-82ae-b88d236e59b7",
   "metadata": {},
   "source": [
    "### Shape files"
   ]
  },
  {
   "cell_type": "code",
   "execution_count": null,
   "id": "9ba624af-15c6-4689-a982-04e1c29964e0",
   "metadata": {},
   "outputs": [],
   "source": []
  },
  {
   "cell_type": "code",
   "execution_count": null,
   "id": "46d8d1ea-bfed-49c8-99c5-292e9735b712",
   "metadata": {},
   "outputs": [],
   "source": [
    "# Beispielhafte Nutzung\n",
    "state_path='data/original_data/pkl/state.pickle'\n",
    "county_path='data/original_data/pkl/county.pickle'\n",
    "\n",
    "(\n",
    "    state_shape,\n",
    "    county_shape,\n",
    "    filtered_state_shape_north_america,\n",
    "    filtered_state_shape_alaska,\n",
    "    filtered_county_shape_north_america,\n",
    "    filtered_county_shape_alaska\n",
    ") = DataPreparation.prepare_us_geometries_with_original_names(state_path, county_path)\n"
   ]
  },
  {
   "cell_type": "markdown",
   "id": "55980534-5069-44b4-ae45-a3d9744277ba",
   "metadata": {},
   "source": [
    "### County data"
   ]
  },
  {
   "cell_type": "code",
   "execution_count": null,
   "id": "c0c6dd93-7a31-4a84-a130-d8d56d67a020",
   "metadata": {},
   "outputs": [],
   "source": [
    "import pandas as pd\n",
    "county_master = pd.read_pickle('data/original_data/pkl/county_information.pkl')\n",
    "county_master.head()"
   ]
  },
  {
   "cell_type": "markdown",
   "id": "bc43c9d6-e43d-4ef4-8fb1-0090b20328f3",
   "metadata": {},
   "source": [
    "### US industry regions"
   ]
  },
  {
   "cell_type": "code",
   "execution_count": null,
   "id": "8980151c-8c5b-4d1f-bdd4-3b299caa6a1c",
   "metadata": {},
   "outputs": [],
   "source": [
    "industry_regions, multi_region_states = DataPreparation.assign_industry_regions(filtered_state_shape_north_america)\n",
    "\n",
    "print(\"States assigned to multiple regions:\", multi_region_states)"
   ]
  },
  {
   "cell_type": "code",
   "execution_count": null,
   "id": "e44e3d20-1a9d-4954-acb1-63099b6c4851",
   "metadata": {},
   "outputs": [],
   "source": [
    "unique_missing, us_territories = DataPreparation.find_missing_us_territories(county_master, industry_regions)\n",
    "\n",
    "print(\"Missing states/territories:\")\n",
    "print(unique_missing)"
   ]
  },
  {
   "cell_type": "markdown",
   "id": "37882955-341b-404e-bcab-a3723b2aa66b",
   "metadata": {},
   "source": [
    "### Feature Dataframe"
   ]
  },
  {
   "cell_type": "code",
   "execution_count": null,
   "id": "a4e3c982-ceef-4e68-85d0-07671b4b0dcc",
   "metadata": {},
   "outputs": [],
   "source": [
    "df_original= DataPreparation.load_and_filter_feature_dataframe(\n",
    "    'data/processed_data/pkl/feature_df.pkl',\n",
    "    us_territories\n",
    ")\n",
    "\n",
    "df_original.head()"
   ]
  },
  {
   "cell_type": "code",
   "execution_count": null,
   "id": "6c419d6c-2b70-4a7d-b031-cf0fa43edf6b",
   "metadata": {},
   "outputs": [],
   "source": [
    "df_original.info()"
   ]
  },
  {
   "cell_type": "markdown",
   "id": "0a933371-5376-4d68-a45f-e59ed8f256e0",
   "metadata": {},
   "source": [
    "# Scaling"
   ]
  },
  {
   "cell_type": "code",
   "execution_count": null,
   "id": "87f1a7e4-ae36-4651-9951-6fa5b748e786",
   "metadata": {},
   "outputs": [],
   "source": [
    "df_scaled_log,df_scaled_features_log, df_original_features = DataPreparation.apply_log10_scaling(df_original)"
   ]
  },
  {
   "cell_type": "code",
   "execution_count": null,
   "id": "456597fd-f378-43b8-b5f1-f6b685b8bf52",
   "metadata": {},
   "outputs": [],
   "source": [
    "feature_id_dict = {feature: \"F\" + str(i+1) for i, feature in enumerate(df_original_features.columns)}\n",
    "feature_id_dict"
   ]
  },
  {
   "cell_type": "code",
   "execution_count": null,
   "id": "aba10f07-626b-4fc4-86e8-ac82da15c6a6",
   "metadata": {},
   "outputs": [],
   "source": [
    "DataPreparation.plot_feature_distributions_before_after_log(df_original, df_scaled_log)"
   ]
  },
  {
   "cell_type": "code",
   "execution_count": null,
   "id": "4f5534a0-f355-44ec-91e6-49c194dbefb5",
   "metadata": {
    "scrolled": true
   },
   "outputs": [],
   "source": [
    "DataPreparation.plot_histograms(df_original, df_scaled_log)"
   ]
  },
  {
   "cell_type": "code",
   "execution_count": null,
   "id": "c49fb7da-dd8d-4962-a97f-0d126e0bba54",
   "metadata": {},
   "outputs": [],
   "source": [
    "# Optional: Descriptions of your features\n",
    "descriptions = [\n",
    "    \"SOC 51-9022, Grinding, Polishing by Hand\",\n",
    "    \"SOC 51-4121, Welders, Cutters, Solderers\",\n",
    "    \"SOC 49-9041, Industrial Machinery Mechanics\",\n",
    "    \"SOC 49-9071, Maintenance and Repair Workers\",\n",
    "    \"SOC 51-4033, Grinding, Lapping, Polishing\",\n",
    "    \"SOC 51-4035, Milling and Planing Machine Setters\",\n",
    "    \"SOC 47-2211, Sheet Metal Workers\",\n",
    "    \"SOC 51-2041, Structural Metal Fabricators\",\n",
    "    \"NAICS 3315, Foundries\", \n",
    "    \"NAICS 3364, Aerospace\",\n",
    "    \"NAICS 3366, Shipbuilding\",\n",
    "    \"NAICS 3335, Metalworking Machines Manufacturing\", \n",
    "    \"NAICS 3320A1, Steel forming\", \n",
    "    \"NAICS 3320A2, Structural Metals Manufacturing\",\n",
    "    \"NAICS 3327, Machine Shops\", \n",
    "    \"NAICS 3312, Steel Product Manufacturing\", \n",
    "    \"NAICS 3314, Nonferrous Metal Production\",\n",
    "    \"NAICS 3361/3362, Automotive\"\n",
    "]\n",
    "\n",
    "# Create summary\n",
    "summary_df, styled_summary = DataPreparation.create_feature_summary_table(df_original, descriptions=descriptions)\n",
    "\n",
    "# Display styled table (e.g., in Jupyter Notebook)\n",
    "styled_summary\n"
   ]
  },
  {
   "cell_type": "markdown",
   "id": "caa9f00f-5367-41fa-a87b-59b108b62ee1",
   "metadata": {},
   "source": [
    "# Dimensionality Reduction"
   ]
  },
  {
   "cell_type": "code",
   "execution_count": null,
   "id": "cfbd4366-2039-4b8a-bbcc-683f90006559",
   "metadata": {},
   "outputs": [],
   "source": [
    "df_scaled = df_scaled_log\n",
    "df_scaled_features = df_scaled_features_log"
   ]
  },
  {
   "cell_type": "markdown",
   "id": "bbaca91b-a587-4214-9c03-cb69cd8d2c58",
   "metadata": {},
   "source": [
    "### TSNE"
   ]
  },
  {
   "cell_type": "code",
   "execution_count": null,
   "id": "e790e9cd-0fbd-45c5-804d-c19dbf09ad7e",
   "metadata": {},
   "outputs": [],
   "source": [
    "X_tsne = DimensionalityReduction.plot_tsne_2d(df_scaled_features)"
   ]
  },
  {
   "cell_type": "markdown",
   "id": "3cfdfebe-26af-4bd3-927b-5fd6a7da0182",
   "metadata": {},
   "source": [
    "### UMAP"
   ]
  },
  {
   "cell_type": "code",
   "execution_count": null,
   "id": "a148faa0-db5a-4a4b-87c1-4dff0a888d51",
   "metadata": {},
   "outputs": [],
   "source": [
    "embedding = DimensionalityReduction.plot_umap_2d(df_scaled_features)"
   ]
  },
  {
   "cell_type": "markdown",
   "id": "a0e69f51-ab71-45be-b1a2-bf3dac19a130",
   "metadata": {},
   "source": [
    "## PCA"
   ]
  },
  {
   "cell_type": "code",
   "execution_count": null,
   "id": "63ebd3a2-51e5-4158-8129-65cd1c1d4227",
   "metadata": {},
   "outputs": [],
   "source": [
    "X_pca_2d, X_pca_3d = DimensionalityReduction.plot_pca_2d_3d(df_scaled_log)"
   ]
  },
  {
   "cell_type": "markdown",
   "id": "7d7b1409-2574-4fc7-a9cb-2627cb31486c",
   "metadata": {},
   "source": [
    "# Clustering"
   ]
  },
  {
   "cell_type": "markdown",
   "id": "132dc5d9-576b-4001-9449-b7462a4482e0",
   "metadata": {},
   "source": [
    "## HDBScan with full feature space"
   ]
  },
  {
   "cell_type": "code",
   "execution_count": null,
   "id": "546a08af-ae95-4a09-9d3d-48c78f4654d7",
   "metadata": {
    "scrolled": true
   },
   "outputs": [],
   "source": [
    "param_grid = {\n",
    "    'min_cluster_size': range(30, 50, 2),\n",
    "    'min_samples': range(1, 10)\n",
    "}\n",
    "\n",
    "# Optional: true_labels = df_scaled['true_label']\n",
    "\n",
    "results_df = Clustering.run_hdbscan_gridsearch(\n",
    "    df_scaled=df_scaled_log,\n",
    "    param_grid=param_grid,\n",
    "    true_labels=None,  # oder true_labels, falls vorhanden\n",
    "    save_path='data/processed_data/pkl/hdbscan_results_df.pickle'\n",
    ")\n",
    "results_df"
   ]
  },
  {
   "cell_type": "code",
   "execution_count": null,
   "id": "fc1a194d-4b7c-4041-bb3a-3945cfdc5c52",
   "metadata": {},
   "outputs": [],
   "source": [
    "best_hdbscan_full_space = Clustering.select_best_hdbscan_result(\n",
    "    result_path='data/processed_data/pkl/hdbscan_results_df.pickle',\n",
    "    noise_threshold=0.1,\n",
    "    min_clusters=2,\n",
    "    min_persistence=0.5\n",
    ")\n",
    "\n",
    "print(\"Best HDBSCAN Full Space config:\\n\", best_hdbscan_full_space)\n"
   ]
  },
  {
   "cell_type": "markdown",
   "id": "f5c4c557-f966-4784-a77b-0463873a3a49",
   "metadata": {},
   "source": [
    "## HDBScan on t-SNE"
   ]
  },
  {
   "cell_type": "code",
   "execution_count": null,
   "id": "4e1fe1d3-186d-4a29-9a50-6a1efb926dd3",
   "metadata": {
    "scrolled": true
   },
   "outputs": [],
   "source": [
    "param_grid = {\n",
    "    'min_cluster_size': range(30, 50, 2),\n",
    "    'min_samples': range(1, 10)\n",
    "}\n",
    "\n",
    "hdbscan_results_tsne_df = Clustering.run_hdbscan_gridsearch_tsne(\n",
    "    tsne_embedding=X_tsne,\n",
    "    param_grid=param_grid,\n",
    "    save_path='data/processed_data/pkl/hdbscan_results_tsne_df.pickle'\n",
    ")\n"
   ]
  },
  {
   "cell_type": "code",
   "execution_count": null,
   "id": "37b36aa2-de5d-4cb7-ae93-f5502d79fa0a",
   "metadata": {},
   "outputs": [],
   "source": [
    "best_hdbscan_tsne = Clustering.select_best_hdbscan_reduced_result(\n",
    "    result_path='data/processed_data/pkl/hdbscan_results_tsne_df.pickle',\n",
    "    noise_threshold=0.1,\n",
    "    min_clusters=2,\n",
    "    min_persistence=0.5\n",
    ")\n",
    "\n",
    "print(\"Best HDBSCAN (reduced space):\")\n",
    "print(best_hdbscan_tsne)\n"
   ]
  },
  {
   "cell_type": "markdown",
   "id": "9963a8a4-8da7-45d9-adb7-4219a2b30ee2",
   "metadata": {},
   "source": [
    "## DBScan on t-SNE components"
   ]
  },
  {
   "cell_type": "code",
   "execution_count": null,
   "id": "19e5d28d-0ce2-4d70-bda5-51b7afb99e08",
   "metadata": {
    "scrolled": true
   },
   "outputs": [],
   "source": [
    "import numpy as np\n",
    "param_grid = {\n",
    "    'eps': np.arange(2, 5.5, 0.5),\n",
    "    'min_samples': range(20, 46, 5)\n",
    "}\n",
    "\n",
    "dbscan_results_df = Clustering.run_dbscan_gridsearch_tsne(\n",
    "    tsne_data=X_tsne,\n",
    "    param_grid=param_grid,\n",
    "    save_path='data/processed_data/pkl/dbscan_results_df.pickle'\n",
    ")"
   ]
  },
  {
   "cell_type": "code",
   "execution_count": null,
   "id": "3d0a726b-8716-487e-b827-ab2c246e4d7c",
   "metadata": {},
   "outputs": [],
   "source": [
    "best_dbscan_result = Clustering.select_best_dbscan_result(\n",
    "    result_path='data/processed_data/pkl/dbscan_results_df.pickle',\n",
    "    min_clusters=2,\n",
    "    noise_threshold=0.2,\n",
    "    strict_noise_preference=0.05\n",
    ")\n",
    "\n",
    "print(\"Best DBSCAN result:\\n\", best_dbscan_result)\n"
   ]
  },
  {
   "cell_type": "markdown",
   "id": "f9a3a3ff-9c07-4811-90ae-db0e7ae6e08b",
   "metadata": {},
   "source": [
    "## Vizualization clustering methods"
   ]
  },
  {
   "cell_type": "code",
   "execution_count": null,
   "id": "b398eee4-85d5-4432-b93c-dc30a72720db",
   "metadata": {},
   "outputs": [],
   "source": [
    "df_hdbscan_full, df_dbscan_tsne, df_hdbscan_tsne = Clustering.apply_and_color_clusters(\n",
    "    df_scaled=df_scaled,\n",
    "    X_tsne=X_tsne,\n",
    "    hdbscan_full_space_best_result=best_hdbscan_full_space,\n",
    "    hdbscan_reduced_space_best_result=best_hdbscan_tsne,\n",
    "    dbscan_best_params=best_dbscan_result  # Oder dynamisch\n",
    ")\n"
   ]
  },
  {
   "cell_type": "code",
   "execution_count": null,
   "id": "f3343892-8dc2-4876-8e93-3e0c171e6641",
   "metadata": {},
   "outputs": [],
   "source": [
    "Clustering.plot_cluster_comparison_tsne(\n",
    "    X_tsne=X_tsne,\n",
    "    df_dbscan_tsne=df_dbscan_tsne,\n",
    "    df_hdbscan_tsne=df_hdbscan_tsne,\n",
    "    df_hdbscan_full=df_hdbscan_full\n",
    ")\n"
   ]
  },
  {
   "cell_type": "markdown",
   "id": "a0ada1e8-cc2f-4d71-95a9-9c43ddfab68f",
   "metadata": {},
   "source": [
    "## Metrics"
   ]
  },
  {
   "cell_type": "code",
   "execution_count": null,
   "id": "bb3e59a4-dcd6-4219-baec-a29bb3cb8bdb",
   "metadata": {},
   "outputs": [],
   "source": [
    "labels_dict = {\n",
    "    'HDBSCAN (full feature set)': df_hdbscan_full['cluster_id'].values,\n",
    "    'HDBSCAN (t-SNE)': df_hdbscan_tsne['cluster_id'].values,\n",
    "    'DBSCAN (t-SNE)': df_dbscan_tsne['cluster_id'].values\n",
    "}\n",
    "\n",
    "data_dict = {\n",
    "    'HDBSCAN (full feature set)': df_scaled.iloc[:, 1:],  # Ohne ID-Spalte und ggf. Zielspalten\n",
    "    'HDBSCAN (t-SNE)': X_tsne,\n",
    "    'DBSCAN (t-SNE)': X_tsne\n",
    "}\n",
    "\n",
    "# Jetzt evaluieren:\n",
    "df_metrics, pairwise_metrics = Clustering.evaluate_clusterings(labels_dict, data_dict)\n",
    "\n",
    "# Anzeigen:\n",
    "print(\"Internal clustering metrics:\")\n",
    "display(df_metrics)\n",
    "\n",
    "print(\"\\nPairwise comparison (ARI/NMI):\")\n",
    "display(pairwise_metrics)\n"
   ]
  },
  {
   "cell_type": "markdown",
   "id": "75e3ec6b-ca34-4874-ac8e-e5174cce02cc",
   "metadata": {},
   "source": [
    "# Vizualizations"
   ]
  },
  {
   "cell_type": "markdown",
   "id": "dace0735-40ff-406e-800d-fd78da574b4a",
   "metadata": {},
   "source": [
    "## Feature values in t-SNE plot"
   ]
  },
  {
   "cell_type": "code",
   "execution_count": null,
   "id": "492d65cd-2fe3-4a5c-9914-06423a6dab40",
   "metadata": {
    "scrolled": true
   },
   "outputs": [],
   "source": [
    "Vizualization.plot_tsne_feature_maps(\n",
    "    X_tsne=X_tsne,\n",
    "    df_features=df_scaled_features,\n",
    "    feature_id_prefix=\"F\",\n",
    "    save_path=None  # Oder z. B. 'output/tsne_feature_plots'\n",
    ")\n"
   ]
  },
  {
   "cell_type": "code",
   "execution_count": null,
   "id": "ff59e4b8-d395-47e8-84cf-66adb728acde",
   "metadata": {},
   "outputs": [],
   "source": [
    "features_to_plot = [\n",
    "    'total_emp_occu_51-4033',\n",
    "    'total_emp_naics_3335',\n",
    "    'total_emp_naics_3364',\n",
    "    'total_emp_naics_3366'\n",
    "]\n",
    "\n",
    "Vizualization.plot_tsne_feature_grid(\n",
    "    X_tsne=X_tsne,\n",
    "    df_features=df_scaled_features,\n",
    "    features_to_plot=features_to_plot,\n",
    "    feature_id_dict=feature_id_dict,\n",
    "    save_path='tsne_feature_values.png'\n",
    ")\n"
   ]
  },
  {
   "cell_type": "markdown",
   "id": "e592efb4-836a-4f63-adc3-a95c85081ff8",
   "metadata": {},
   "source": [
    "## Cluster on map"
   ]
  },
  {
   "cell_type": "code",
   "execution_count": null,
   "id": "67c957ab-5c73-47e8-83b9-8a3bc5064168",
   "metadata": {},
   "outputs": [],
   "source": []
  },
  {
   "cell_type": "code",
   "execution_count": null,
   "id": "56a8f884-fc81-49e4-b45c-96911dd9b1b8",
   "metadata": {},
   "outputs": [],
   "source": [
    "df_scaled_ranked, cluster_summary = Vizualization.compute_cluster_rankings(\n",
    "    df_scaled=df_scaled,\n",
    "    cluster_df=df_hdbscan_tsne,  # oder df_hdbscan_full\n",
    "    cluster_col='cluster_id',\n",
    "    color_col='color',\n",
    "    exclude_columns=3  # z. B. 'cluster_id', 'color', 'rank'\n",
    ")\n",
    "\n",
    "# Ausgabe prüfen\n",
    "display(cluster_summary.head())\n",
    "display(df_scaled_ranked.head())\n"
   ]
  },
  {
   "cell_type": "code",
   "execution_count": null,
   "id": "4b75e8d3-f931-45a0-ada7-86f30e71a438",
   "metadata": {},
   "outputs": [],
   "source": [
    "filtered_county_shape_north_america_merged, filtered_county_shape_alaska_merged = Vizualization.plot_clustered_us_counties(\n",
    "    filtered_county_shape_north_america,\n",
    "    filtered_county_shape_alaska,\n",
    "    filtered_state_shape_north_america,\n",
    "    df_scaled_ranked\n",
    ")"
   ]
  },
  {
   "cell_type": "code",
   "execution_count": null,
   "id": "31efbcfe-fb7e-4d51-95d6-1eb3eb4bf4ee",
   "metadata": {},
   "outputs": [],
   "source": [
    "Vizualization.plot_top_ranked_and_noise_counties(\n",
    "    filtered_county_shape_north_america_merged,\n",
    "    filtered_state_shape_north_america\n",
    ")\n"
   ]
  },
  {
   "cell_type": "markdown",
   "id": "856acf6e-db5e-4305-a6de-e37e4288ebc8",
   "metadata": {},
   "source": [
    "## Feature importance HDBSCAN (reduced space) "
   ]
  },
  {
   "cell_type": "code",
   "execution_count": null,
   "id": "412e0033-6072-4a6d-809a-e01fa215d41b",
   "metadata": {},
   "outputs": [],
   "source": [
    "Vizualization.plot_feature_importance_heatmap(\n",
    "    df_scaled=df_scaled_ranked,\n",
    "    df_original_features=df_original_features,\n",
    "    output_file=\"feature_importance_heatmap.png\"\n",
    ")\n"
   ]
  },
  {
   "cell_type": "markdown",
   "id": "74a50ceb-d766-493e-8d9f-fb919eb0b71e",
   "metadata": {},
   "source": [
    "## Cluster feature values bar plot"
   ]
  },
  {
   "cell_type": "code",
   "execution_count": null,
   "id": "aa386f9a-45b6-4051-8e39-3c6b233a846c",
   "metadata": {},
   "outputs": [],
   "source": [
    "Vizualization.plot_cluster_feature_bars(\n",
    "    df_original=df_original,\n",
    "    df_scaled=df_scaled_ranked,\n",
    "    selected_clusters=[14, 13, 12, 10, 3],\n",
    "    occupations={\n",
    "        \"51-9022\": \"Grinding, Polishing by Hand\",\n",
    "        \"51-4121\": \"Welders, Cutters, Solderers\",\n",
    "        \"49-9041\": \"Industrial Machinery Mechanics\",\n",
    "        \"49-9071\": \"Maintenance and Repair Workers\",\n",
    "        \"51-4033\": \"Grinding, Lapping, Polishing\",\n",
    "        \"51-4035\": \"Milling and Planing Machine Setters\",\n",
    "        \"47-2211\": \"Sheet Metal Workers\",\n",
    "        \"51-2041\": \"Structural Metal Fabricators\"\n",
    "    },\n",
    "    naics={\n",
    "        \"3315\": \"Foundries\",\n",
    "        \"Automotive\": \"Automotive\",\n",
    "        \"3364\": \"Aerospace\",\n",
    "        \"3366\": \"Shipbuilding\",\n",
    "        \"3335\": \"Metalworking Machines Manufacturing\",\n",
    "        \"3320A1\": \"Steel forming\",\n",
    "        \"3320A2\": \"Structural Metals Manufacturing\",\n",
    "        \"3327\": \"Machine Shops\",\n",
    "        \"3312\": \"Steel Product Manufacturing\",\n",
    "        \"3314\": \"Nonferrous Metal Production\"\n",
    "    }\n",
    ")\n"
   ]
  },
  {
   "cell_type": "code",
   "execution_count": null,
   "id": "97caa277-bab3-41c8-8a45-f140c6e9a328",
   "metadata": {},
   "outputs": [],
   "source": []
  }
 ],
 "metadata": {
  "kernelspec": {
   "display_name": "py3.10-DM+TF-Klon",
   "language": "python",
   "name": "py3.10-dm-tf-cloned"
  },
  "language_info": {
   "codemirror_mode": {
    "name": "ipython",
    "version": 3
   },
   "file_extension": ".py",
   "mimetype": "text/x-python",
   "name": "python",
   "nbconvert_exporter": "python",
   "pygments_lexer": "ipython3",
   "version": "3.10.8"
  }
 },
 "nbformat": 4,
 "nbformat_minor": 5
}
